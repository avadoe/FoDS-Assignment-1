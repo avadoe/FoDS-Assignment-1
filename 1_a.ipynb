{
 "cells": [
  {
   "cell_type": "code",
   "execution_count": 1,
   "metadata": {},
   "outputs": [],
   "source": [
    "import numpy as np\n",
    "import pandas as pd"
   ]
  },
  {
   "cell_type": "code",
   "execution_count": 2,
   "metadata": {},
   "outputs": [
    {
     "data": {
      "text/html": [
       "<div>\n",
       "<style scoped>\n",
       "    .dataframe tbody tr th:only-of-type {\n",
       "        vertical-align: middle;\n",
       "    }\n",
       "\n",
       "    .dataframe tbody tr th {\n",
       "        vertical-align: top;\n",
       "    }\n",
       "\n",
       "    .dataframe thead th {\n",
       "        text-align: right;\n",
       "    }\n",
       "</style>\n",
       "<table border=\"1\" class=\"dataframe\">\n",
       "  <thead>\n",
       "    <tr style=\"text-align: right;\">\n",
       "      <th></th>\n",
       "      <th>X</th>\n",
       "      <th>Y</th>\n",
       "    </tr>\n",
       "  </thead>\n",
       "  <tbody>\n",
       "    <tr>\n",
       "      <th>0</th>\n",
       "      <td>0.987988</td>\n",
       "      <td>5.098368</td>\n",
       "    </tr>\n",
       "    <tr>\n",
       "      <th>1</th>\n",
       "      <td>0.719720</td>\n",
       "      <td>2.516654</td>\n",
       "    </tr>\n",
       "    <tr>\n",
       "      <th>2</th>\n",
       "      <td>-0.403403</td>\n",
       "      <td>0.337961</td>\n",
       "    </tr>\n",
       "    <tr>\n",
       "      <th>3</th>\n",
       "      <td>0.107107</td>\n",
       "      <td>0.737320</td>\n",
       "    </tr>\n",
       "    <tr>\n",
       "      <th>4</th>\n",
       "      <td>0.345345</td>\n",
       "      <td>-0.780955</td>\n",
       "    </tr>\n",
       "  </tbody>\n",
       "</table>\n",
       "</div>"
      ],
      "text/plain": [
       "          X         Y\n",
       "0  0.987988  5.098368\n",
       "1  0.719720  2.516654\n",
       "2 -0.403403  0.337961\n",
       "3  0.107107  0.737320\n",
       "4  0.345345 -0.780955"
      ]
     },
     "execution_count": 2,
     "metadata": {},
     "output_type": "execute_result"
    }
   ],
   "source": [
    "data = pd.read_csv('Data - A1.csv')\n",
    "data.head()"
   ]
  },
  {
   "cell_type": "markdown",
   "metadata": {},
   "source": [
    "# Preprocessing"
   ]
  },
  {
   "cell_type": "code",
   "execution_count": 3,
   "metadata": {},
   "outputs": [
    {
     "name": "stdout",
     "output_type": "stream",
     "text": [
      "Mean: -4.440892098500626e-18 | Stddev: 0.5782170892807795\n"
     ]
    }
   ],
   "source": [
    "mean_x = data['X'].mean()\n",
    "std_x = data['X'].std()\n",
    "\n",
    "print(f'Mean: {mean_x} | Stddev: {std_x}')"
   ]
  },
  {
   "cell_type": "code",
   "execution_count": 4,
   "metadata": {},
   "outputs": [
    {
     "data": {
      "text/html": [
       "<div>\n",
       "<style scoped>\n",
       "    .dataframe tbody tr th:only-of-type {\n",
       "        vertical-align: middle;\n",
       "    }\n",
       "\n",
       "    .dataframe tbody tr th {\n",
       "        vertical-align: top;\n",
       "    }\n",
       "\n",
       "    .dataframe thead th {\n",
       "        text-align: right;\n",
       "    }\n",
       "</style>\n",
       "<table border=\"1\" class=\"dataframe\">\n",
       "  <thead>\n",
       "    <tr style=\"text-align: right;\">\n",
       "      <th></th>\n",
       "      <th>X</th>\n",
       "      <th>Y</th>\n",
       "    </tr>\n",
       "  </thead>\n",
       "  <tbody>\n",
       "    <tr>\n",
       "      <th>0</th>\n",
       "      <td>1.708680</td>\n",
       "      <td>5.098368</td>\n",
       "    </tr>\n",
       "    <tr>\n",
       "      <th>1</th>\n",
       "      <td>1.244722</td>\n",
       "      <td>2.516654</td>\n",
       "    </tr>\n",
       "    <tr>\n",
       "      <th>2</th>\n",
       "      <td>-0.697668</td>\n",
       "      <td>0.337961</td>\n",
       "    </tr>\n",
       "    <tr>\n",
       "      <th>3</th>\n",
       "      <td>0.185237</td>\n",
       "      <td>0.737320</td>\n",
       "    </tr>\n",
       "    <tr>\n",
       "      <th>4</th>\n",
       "      <td>0.597259</td>\n",
       "      <td>-0.780955</td>\n",
       "    </tr>\n",
       "  </tbody>\n",
       "</table>\n",
       "</div>"
      ],
      "text/plain": [
       "          X         Y\n",
       "0  1.708680  5.098368\n",
       "1  1.244722  2.516654\n",
       "2 -0.697668  0.337961\n",
       "3  0.185237  0.737320\n",
       "4  0.597259 -0.780955"
      ]
     },
     "execution_count": 4,
     "metadata": {},
     "output_type": "execute_result"
    }
   ],
   "source": [
    "data['X'] = (data['X'] - mean_x) / (std_x)\n",
    "data.head()"
   ]
  },
  {
   "cell_type": "code",
   "execution_count": 5,
   "metadata": {},
   "outputs": [],
   "source": [
    "data = data.sample(frac=1, random_state=42)\n",
    "\n",
    "split_frac = int(0.8 * len(data))\n",
    "\n",
    "train_data = data[:split_frac]\n",
    "test_data = data[split_frac:]"
   ]
  },
  {
   "cell_type": "code",
   "execution_count": 6,
   "metadata": {},
   "outputs": [
    {
     "name": "stdout",
     "output_type": "stream",
     "text": [
      "TotalLen: 1000 | TrainLen: 800 | TestLen: 200\n"
     ]
    }
   ],
   "source": [
    "print(f'TotalLen: {len(data)} | TrainLen: {len(train_data)} | TestLen: {len(test_data)}')"
   ]
  },
  {
   "cell_type": "markdown",
   "metadata": {},
   "source": [
    "# Polynomial Regression"
   ]
  },
  {
   "cell_type": "code",
   "execution_count": 7,
   "metadata": {},
   "outputs": [
    {
     "name": "stdout",
     "output_type": "stream",
     "text": [
      "[[1 1]\n",
      " [2 4]\n",
      " [3 9]]\n"
     ]
    }
   ],
   "source": [
    "def create_pol(X, degree):\n",
    "    return np.column_stack([X ** i for i in range(1, degree + 1)])\n",
    "\n",
    "X = np.array([1, 2, 3])\n",
    "print(create_pol(X, 2))"
   ]
  },
  {
   "cell_type": "code",
   "execution_count": 8,
   "metadata": {},
   "outputs": [
    {
     "name": "stdout",
     "output_type": "stream",
     "text": [
      "[1, 2, 3, 4, 5, 6, 7, 8, 9]\n"
     ]
    }
   ],
   "source": [
    "degrees = [_ for _ in range(1, 10)]\n",
    "print(degrees)"
   ]
  },
  {
   "cell_type": "code",
   "execution_count": 9,
   "metadata": {},
   "outputs": [
    {
     "name": "stdout",
     "output_type": "stream",
     "text": [
      "(800,) (200,) (800,) (200,)\n"
     ]
    }
   ],
   "source": [
    "X_train = train_data['X'].values\n",
    "X_test = test_data['X'].values\n",
    "y_train = train_data['Y'].values\n",
    "y_test = test_data['Y'].values\n",
    "\n",
    "print(X_train.shape, X_test.shape, y_train.shape, y_test.shape)"
   ]
  },
  {
   "cell_type": "markdown",
   "metadata": {},
   "source": [
    "## Training"
   ]
  },
  {
   "cell_type": "code",
   "execution_count": 43,
   "metadata": {},
   "outputs": [
    {
     "name": "stdout",
     "output_type": "stream",
     "text": [
      "Shape of X_pol: (800, 1)\n",
      "Shape of w: (1,)\n",
      "Shape of X_pol: (800, 2)\n",
      "Shape of w: (2,)\n",
      "Shape of X_pol: (800, 3)\n",
      "Shape of w: (3,)\n",
      "Shape of X_pol: (800, 4)\n",
      "Shape of w: (4,)\n",
      "Shape of X_pol: (800, 5)\n",
      "Shape of w: (5,)\n",
      "Shape of X_pol: (800, 6)\n",
      "Shape of w: (6,)\n",
      "Shape of X_pol: (800, 7)\n",
      "Shape of w: (7,)\n",
      "Shape of X_pol: (800, 8)\n",
      "Shape of w: (8,)\n",
      "Shape of X_pol: (800, 9)\n",
      "Shape of w: (9,)\n"
     ]
    }
   ],
   "source": [
    "lr, num_itrs = 0.00005, 5000\n",
    "\n",
    "mses = []\n",
    "ws, bs = [], []\n",
    "\n",
    "for degree in degrees:\n",
    "    X_pol = create_pol(X_train, degree)    \n",
    "    print(f'Shape of X_pol: {X_pol.shape}')\n",
    "\n",
    "    w = np.zeros(X_pol.shape[1])\n",
    "    print(f'Shape of w: {w.shape}')\n",
    "    \n",
    "    b = 0\n",
    "    \n",
    "    for _ in range(num_itrs):\n",
    "        prediction = X_pol.dot(w) + b\n",
    "        gradient_w = (1/len(train_data)) * X_pol.T.dot(prediction - y_train)\n",
    "        gradient_b = (1/len(train_data)) * np.sum(prediction - y_train)\n",
    "        \n",
    "        w -= lr * gradient_w\n",
    "        b -= lr * gradient_b\n",
    "        \n",
    "    ws.append(w)\n",
    "    bs.append(b)\n",
    "        \n",
    "    mse = np.mean((X_pol.dot(w) + b - y_train)**2)\n",
    "    mses.append(mse)"
   ]
  },
  {
   "cell_type": "code",
   "execution_count": 44,
   "metadata": {},
   "outputs": [
    {
     "data": {
      "text/plain": [
       "[3.0916736555542004,\n",
       " 2.8398747674250546,\n",
       " 1.5152331644313852,\n",
       " 1.4861174558824417,\n",
       " 1.3144365613546969,\n",
       " 1.3561659877360952,\n",
       " 1.4382960010121946,\n",
       " 1.4053050848136885,\n",
       " 1.3219659671476875]"
      ]
     },
     "execution_count": 44,
     "metadata": {},
     "output_type": "execute_result"
    }
   ],
   "source": [
    "mses"
   ]
  },
  {
   "cell_type": "markdown",
   "metadata": {},
   "source": [
    "# Plot"
   ]
  },
  {
   "cell_type": "code",
   "execution_count": 45,
   "metadata": {},
   "outputs": [
    {
     "data": {
      "image/png": "[encoded data removed]",
      "text/plain": [
       "<Figure size 800x600 with 1 Axes>"
      ]
     },
     "metadata": {},
     "output_type": "display_data"
    }
   ],
   "source": [
    "import matplotlib.pyplot as plt\n",
    "\n",
    "plt.figure(figsize=(8, 6))\n",
    "plt.plot(degrees, mses, marker='o', linestyle='-')\n",
    "plt.title(\"Loss vs. Polynomial Degree\")\n",
    "plt.xlabel(\"Degree\")\n",
    "plt.ylabel(\"Loss(MSE)\")\n",
    "plt.grid(True)\n",
    "\n",
    "plt.show()"
   ]
  },
  {
   "cell_type": "code",
   "execution_count": 46,
   "metadata": {},
   "outputs": [],
   "source": [
    "map = {}\n",
    "\n",
    "for idx, mse in enumerate(mses):\n",
    "    deg = idx + 1\n",
    "    map[deg] = mse"
   ]
  },
  {
   "cell_type": "code",
   "execution_count": 47,
   "metadata": {},
   "outputs": [
    {
     "data": {
      "text/plain": [
       "{5: 1.3144365613546969,\n",
       " 9: 1.3219659671476875,\n",
       " 6: 1.3561659877360952,\n",
       " 8: 1.4053050848136885,\n",
       " 7: 1.4382960010121946,\n",
       " 4: 1.4861174558824417,\n",
       " 3: 1.5152331644313852,\n",
       " 2: 2.8398747674250546,\n",
       " 1: 3.0916736555542004}"
      ]
     },
     "execution_count": 47,
     "metadata": {},
     "output_type": "execute_result"
    }
   ],
   "source": [
    "sorted_map = dict(sorted(map.items(), key=lambda x: x[1]))\n",
    "sorted_map"
   ]
  },
  {
   "cell_type": "code",
   "execution_count": 48,
   "metadata": {},
   "outputs": [
    {
     "name": "stdout",
     "output_type": "stream",
     "text": [
      "The best degree for the polynomial regression is: 5\n"
     ]
    }
   ],
   "source": [
    "best_degree = min(map, key=map.get)\n",
    "print(f'The best degree for the polynomial regression is: {best_degree}')"
   ]
  },
  {
   "cell_type": "markdown",
   "metadata": {},
   "source": [
    "## Testing"
   ]
  },
  {
   "cell_type": "code",
   "execution_count": 49,
   "metadata": {},
   "outputs": [
    {
     "data": {
      "text/plain": [
       "[array([0.30977722]),\n",
       " array([0.30851314, 0.20144935]),\n",
       " array([0.19980328, 0.1964264 , 0.44317827]),\n",
       " array([0.19842761, 0.10749792, 0.44005184, 0.14918093]),\n",
       " array([0.07524089, 0.10559966, 0.1295889 , 0.143805  , 0.24985973]),\n",
       " array([0.07554243, 0.07907485, 0.12989274, 0.06654409, 0.24989366,\n",
       "        0.03016426]),\n",
       " array([0.06916273, 0.08004834, 0.08779668, 0.06748371, 0.10291498,\n",
       "        0.02986062, 0.0603148 ]),\n",
       " array([ 0.06913272,  0.08576446,  0.08776592,  0.08253767,  0.10290738,\n",
       "         0.06978388,  0.06043613, -0.01989824]),\n",
       " array([ 0.07069501,  0.08554624,  0.0948622 ,  0.08225259,  0.12643858,\n",
       "         0.06952333,  0.13210658, -0.01965898, -0.03189329])]"
      ]
     },
     "execution_count": 49,
     "metadata": {},
     "output_type": "execute_result"
    }
   ],
   "source": [
    "ws"
   ]
  },
  {
   "cell_type": "code",
   "execution_count": 50,
   "metadata": {},
   "outputs": [
    {
     "data": {
      "text/plain": [
       "[0.21931708614262116,\n",
       " 0.1936363045688494,\n",
       " 0.1912644585167097,\n",
       " 0.15371887688789726,\n",
       " 0.15322720050790742,\n",
       " 0.1467348064681672,\n",
       " 0.14746125699954613,\n",
       " 0.1495329364655089,\n",
       " 0.1493733810911368]"
      ]
     },
     "execution_count": 50,
     "metadata": {},
     "output_type": "execute_result"
    }
   ],
   "source": [
    "bs"
   ]
  },
  {
   "cell_type": "code",
   "execution_count": 51,
   "metadata": {},
   "outputs": [],
   "source": [
    "test_mses = []\n",
    "\n",
    "for degree in degrees:\n",
    "    X_pol = create_pol(X=X_test, degree=degree)\n",
    "    \n",
    "    prediction = X_pol.dot(ws[degree - 1]) + bs[degree - 1]\n",
    "    \n",
    "    testing_mse = np.mean((prediction - y_test) ** 2)\n",
    "    \n",
    "    test_mses.append(testing_mse)\n"
   ]
  },
  {
   "cell_type": "code",
   "execution_count": 53,
   "metadata": {},
   "outputs": [
    {
     "data": {
      "text/plain": [
       "[2.878899997328865,\n",
       " 2.7509950566411283,\n",
       " 1.5157406704834537,\n",
       " 1.5450186222026416,\n",
       " 1.3711806765957215,\n",
       " 1.4041142659956067,\n",
       " 1.4842426027648081,\n",
       " 1.466193826542002,\n",
       " 1.3914747172135542]"
      ]
     },
     "execution_count": 53,
     "metadata": {},
     "output_type": "execute_result"
    }
   ],
   "source": [
    "test_mses"
   ]
  },
  {
   "cell_type": "code",
   "execution_count": 52,
   "metadata": {},
   "outputs": [
    {
     "data": {
      "image/png": "[encoded data removed]",
      "text/plain": [
       "<Figure size 800x600 with 1 Axes>"
      ]
     },
     "metadata": {},
     "output_type": "display_data"
    }
   ],
   "source": [
    "plt.figure(figsize=(8, 6))\n",
    "plt.plot(degrees, test_mses, marker='o', linestyle='-')\n",
    "plt.title(\"Loss vs. Polynomial Degree\")\n",
    "plt.xlabel(\"Degree\")\n",
    "plt.ylabel(\"Loss(MSE)\")\n",
    "plt.grid(True)\n",
    "\n",
    "plt.show()"
   ]
  },
  {
   "cell_type": "code",
   "execution_count": 54,
   "metadata": {},
   "outputs": [
    {
     "data": {
      "text/plain": [
       "{5: 1.3711806765957215,\n",
       " 9: 1.3914747172135542,\n",
       " 6: 1.4041142659956067,\n",
       " 8: 1.466193826542002,\n",
       " 7: 1.4842426027648081,\n",
       " 3: 1.5157406704834537,\n",
       " 4: 1.5450186222026416,\n",
       " 2: 2.7509950566411283,\n",
       " 1: 2.878899997328865}"
      ]
     },
     "execution_count": 54,
     "metadata": {},
     "output_type": "execute_result"
    }
   ],
   "source": [
    "map = {}\n",
    "\n",
    "for idx, mse in enumerate(test_mses):\n",
    "    deg = idx + 1\n",
    "    map[deg] = mse\n",
    "    \n",
    "sorted_map = dict(sorted(map.items(), key=lambda x: x[1]))\n",
    "sorted_map"
   ]
  },
  {
   "cell_type": "code",
   "execution_count": 55,
   "metadata": {},
   "outputs": [
    {
     "name": "stdout",
     "output_type": "stream",
     "text": [
      "The best degree for the polynomial regression is: 5\n"
     ]
    }
   ],
   "source": [
    "best_degree = min(map, key=map.get)\n",
    "print(f'The best degree for the polynomial regression is: {best_degree}')"
   ]
  },
  {
   "cell_type": "code",
   "execution_count": null,
   "metadata": {},
   "outputs": [],
   "source": []
  }
 ],
 "metadata": {
  "kernelspec": {
   "display_name": "general-env",
   "language": "python",
   "name": "python3"
  },
  "language_info": {
   "codemirror_mode": {
    "name": "ipython",
    "version": 3
   },
   "file_extension": ".py",
   "mimetype": "text/x-python",
   "name": "python",
   "nbconvert_exporter": "python",
   "pygments_lexer": "ipython3",
   "version": "3.10.10"
  },
  "orig_nbformat": 4
 },
 "nbformat": 4,
 "nbformat_minor": 2
}
