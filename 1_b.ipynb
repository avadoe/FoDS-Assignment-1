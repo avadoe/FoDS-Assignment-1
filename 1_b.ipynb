{
 "cells": [
  {
   "cell_type": "code",
   "execution_count": 7,
   "metadata": {},
   "outputs": [],
   "source": [
    "import pandas as pd\n",
    "import numpy as np"
   ]
  },
  {
   "cell_type": "code",
   "execution_count": 8,
   "metadata": {},
   "outputs": [],
   "source": [
    "data = pd.read_csv('Fish Data - A2.csv')\n",
    "\n",
    "mean = data.mean()\n",
    "std = data.std()"
   ]
  },
  {
   "cell_type": "code",
   "execution_count": 9,
   "metadata": {},
   "outputs": [
    {
     "data": {
      "text/plain": [
       "(Height      8.970994\n",
       " Width       4.417486\n",
       " Weight    398.326415\n",
       " dtype: float64,\n",
       " Height      4.286208\n",
       " Width       1.685804\n",
       " Weight    357.978317\n",
       " dtype: float64)"
      ]
     },
     "execution_count": 9,
     "metadata": {},
     "output_type": "execute_result"
    }
   ],
   "source": [
    "mean, std"
   ]
  },
  {
   "cell_type": "code",
   "execution_count": 10,
   "metadata": {},
   "outputs": [
    {
     "data": {
      "text/plain": [
       "Height    0\n",
       "Width     0\n",
       "Weight    0\n",
       "dtype: int64"
      ]
     },
     "execution_count": 10,
     "metadata": {},
     "output_type": "execute_result"
    }
   ],
   "source": [
    "data.isna().sum()"
   ]
  },
  {
   "cell_type": "markdown",
   "metadata": {},
   "source": [
    "### Preprocessing"
   ]
  },
  {
   "cell_type": "code",
   "execution_count": 11,
   "metadata": {},
   "outputs": [],
   "source": [
    "data.fillna(data.mean(), inplace=True)"
   ]
  },
  {
   "cell_type": "code",
   "execution_count": 12,
   "metadata": {},
   "outputs": [
    {
     "data": {
      "text/plain": [
       "(8.970993710691824, 4.417485534591195, 4.286207619968867, 1.6858038699921671)"
      ]
     },
     "execution_count": 12,
     "metadata": {},
     "output_type": "execute_result"
    }
   ],
   "source": [
    "mean_ht = data['Height'].mean()\n",
    "mean_wd = data['Width'].mean()\n",
    "std_ht = data['Height'].std()\n",
    "std_wd = data['Width'].std()\n",
    "\n",
    "mean_ht, mean_wd, std_ht, std_wd"
   ]
  },
  {
   "cell_type": "code",
   "execution_count": 13,
   "metadata": {},
   "outputs": [],
   "source": [
    "data['Width'] = (data['Width'] - mean_wd) / std_wd\n",
    "data['Height'] = (data['Height'] - mean_ht) / std_ht"
   ]
  },
  {
   "cell_type": "code",
   "execution_count": 17,
   "metadata": {},
   "outputs": [],
   "source": [
    "data = data.sample(frac=1, random_state=42)\n",
    "\n",
    "train_size = int(0.8 * len(data))\n",
    "\n",
    "train_data = data[:train_size]\n",
    "test_data = data[train_size:]\n",
    "\n",
    "X_train_ht = train_data['Height'].values\n",
    "X_train_wd = train_data['Width'].values\n",
    "X_test_ht = test_data['Height'].values\n",
    "X_test_wd = test_data['Width'].values\n",
    "\n",
    "y_train = train_data['Weight'].values\n",
    "y_test = test_data['Weight'].values"
   ]
  },
  {
   "cell_type": "code",
   "execution_count": 18,
   "metadata": {},
   "outputs": [
    {
     "data": {
      "text/plain": [
       "(127, 32)"
      ]
     },
     "execution_count": 18,
     "metadata": {},
     "output_type": "execute_result"
    }
   ],
   "source": [
    "len(train_data), len(test_data)"
   ]
  },
  {
   "cell_type": "markdown",
   "metadata": {},
   "source": [
    "### Polynomial Regression"
   ]
  },
  {
   "cell_type": "code",
   "execution_count": 102,
   "metadata": {},
   "outputs": [],
   "source": [
    "degrees = [_ for _ in range(10)]\n",
    "q_vals = [0.5, 1, 2, 4]"
   ]
  },
  {
   "cell_type": "code",
   "execution_count": 107,
   "metadata": {},
   "outputs": [],
   "source": [
    "import random\n",
    "\n",
    "def create_pol(X1, X2, degree):\n",
    "    X_pol = np.column_stack([X1 ** i * X2 ** j for i in range(degree + 1) for j in range(degree + 1) if (i + j) <= degree])\n",
    "    return X_pol\n",
    "\n",
    "def init_wt_bias(degree):\n",
    "    w = np.random.randn(len(create_pol(1, 1, degree)[0])) * 0.01\n",
    "    b = 0\n",
    "    return w, b\n",
    "\n",
    "def eval_model(X, y, w, b):\n",
    "    predictions = np.dot(X, w) + b\n",
    "    mse = np.mean((predictions - y) ** 2)\n",
    "    return mse\n",
    "\n",
    "def batch_gradient_descent(X, y, w, b, lr, num_iters, lambda_, q):\n",
    "    for _ in range(num_iters):\n",
    "        prediction = np.dot(X, w) + b\n",
    "        gradient_w = (1/len(y)) * np.dot(X.T, (prediction - y)) + 0.5* lambda_ * q * np.power(w, q - 1)\n",
    "        gradient_b = (1/len(y)) * np.sum(prediction - y)\n",
    "        \n",
    "        w -= lr * gradient_w\n",
    "        b -= lr * gradient_b\n",
    "        \n",
    "    return w, b\n",
    "\n",
    "def stochastic_gradient_descent(X, y, w, b, lr, num_iters, lambda_, q):\n",
    "    N = len(y)\n",
    "    \n",
    "    for _ in range(num_iters):\n",
    "        for i in range(N):\n",
    "            random_idx = random.randint(0, N - 1)\n",
    "            xi = X[random_idx]\n",
    "            yi = y[random_idx]\n",
    "            \n",
    "            prediction = np.dot(xi, w) + b\n",
    "            \n",
    "            gradient_w = (1/N) * np.dot(xi, (prediction - yi)) + 0.5 * lambda_ * q * np.power(w, q - 1)\n",
    "            gradient_b = (1/N) * np.sum(prediction - yi)\n",
    "            \n",
    "            w -= lr * gradient_w\n",
    "            b -= lr * gradient_b\n",
    "        \n",
    "    return w, b"
   ]
  },
  {
   "cell_type": "code",
   "execution_count": 108,
   "metadata": {},
   "outputs": [],
   "source": [
    "lambdas_ = np.linspace(0, 1, num=11)"
   ]
  },
  {
   "cell_type": "code",
   "execution_count": 109,
   "metadata": {},
   "outputs": [
    {
     "name": "stdout",
     "output_type": "stream",
     "text": [
      "Experimenting with q = 0.5, lambda = 0.0\n"
     ]
    },
    {
     "name": "stderr",
     "output_type": "stream",
     "text": [
      "/var/folders/g0/w_wht4tx0pg4hst1_66kb6q00000gn/T/ipykernel_7060/2989953404.py:20: RuntimeWarning: invalid value encountered in power\n",
      "  gradient_w = (1/len(y)) * np.dot(X.T, (prediction - y)) + 0.5* lambda_ * q * np.power(w, q - 1)\n"
     ]
    },
    {
     "name": "stdout",
     "output_type": "stream",
     "text": [
      "Experimenting with q = 0.5, lambda = 0.1\n",
      "Experimenting with q = 0.5, lambda = 0.2\n",
      "Experimenting with q = 0.5, lambda = 0.30000000000000004\n",
      "Experimenting with q = 0.5, lambda = 0.4\n",
      "Experimenting with q = 0.5, lambda = 0.5\n",
      "Experimenting with q = 0.5, lambda = 0.6000000000000001\n",
      "Experimenting with q = 0.5, lambda = 0.7000000000000001\n",
      "Experimenting with q = 0.5, lambda = 0.8\n",
      "Experimenting with q = 0.5, lambda = 0.9\n",
      "Experimenting with q = 0.5, lambda = 1.0\n",
      "Experimenting with q = 1, lambda = 0.0\n"
     ]
    },
    {
     "name": "stderr",
     "output_type": "stream",
     "text": [
      "/var/folders/g0/w_wht4tx0pg4hst1_66kb6q00000gn/T/ipykernel_7060/2989953404.py:14: RuntimeWarning: overflow encountered in square\n",
      "  mse = np.mean((predictions - y) ** 2)\n",
      "/var/folders/g0/w_wht4tx0pg4hst1_66kb6q00000gn/T/ipykernel_7060/2989953404.py:23: RuntimeWarning: invalid value encountered in subtract\n",
      "  w -= lr * gradient_w\n"
     ]
    },
    {
     "name": "stdout",
     "output_type": "stream",
     "text": [
      "Experimenting with q = 1, lambda = 0.1\n",
      "Experimenting with q = 1, lambda = 0.2\n"
     ]
    },
    {
     "name": "stderr",
     "output_type": "stream",
     "text": [
      "/Users/aashutosh/opt/anaconda3/envs/general-env/lib/python3.10/site-packages/numpy/core/fromnumeric.py:86: RuntimeWarning: invalid value encountered in reduce\n",
      "  return ufunc.reduce(obj, axis, dtype, out, **passkwargs)\n"
     ]
    },
    {
     "name": "stdout",
     "output_type": "stream",
     "text": [
      "Experimenting with q = 1, lambda = 0.30000000000000004\n",
      "Experimenting with q = 1, lambda = 0.4\n",
      "Experimenting with q = 1, lambda = 0.5\n",
      "Experimenting with q = 1, lambda = 0.6000000000000001\n",
      "Experimenting with q = 1, lambda = 0.7000000000000001\n",
      "Experimenting with q = 1, lambda = 0.8\n",
      "Experimenting with q = 1, lambda = 0.9\n",
      "Experimenting with q = 1, lambda = 1.0\n",
      "Experimenting with q = 2, lambda = 0.0\n"
     ]
    },
    {
     "name": "stderr",
     "output_type": "stream",
     "text": [
      "/var/folders/g0/w_wht4tx0pg4hst1_66kb6q00000gn/T/ipykernel_7060/2989953404.py:20: RuntimeWarning: invalid value encountered in multiply\n",
      "  gradient_w = (1/len(y)) * np.dot(X.T, (prediction - y)) + 0.5* lambda_ * q * np.power(w, q - 1)\n"
     ]
    },
    {
     "name": "stdout",
     "output_type": "stream",
     "text": [
      "Experimenting with q = 2, lambda = 0.1\n",
      "Experimenting with q = 2, lambda = 0.2\n",
      "Experimenting with q = 2, lambda = 0.30000000000000004\n",
      "Experimenting with q = 2, lambda = 0.4\n",
      "Experimenting with q = 2, lambda = 0.5\n",
      "Experimenting with q = 2, lambda = 0.6000000000000001\n",
      "Experimenting with q = 2, lambda = 0.7000000000000001\n",
      "Experimenting with q = 2, lambda = 0.8\n",
      "Experimenting with q = 2, lambda = 0.9\n",
      "Experimenting with q = 2, lambda = 1.0\n",
      "Experimenting with q = 4, lambda = 0.0\n"
     ]
    },
    {
     "name": "stderr",
     "output_type": "stream",
     "text": [
      "/var/folders/g0/w_wht4tx0pg4hst1_66kb6q00000gn/T/ipykernel_7060/2989953404.py:20: RuntimeWarning: overflow encountered in power\n",
      "  gradient_w = (1/len(y)) * np.dot(X.T, (prediction - y)) + 0.5* lambda_ * q * np.power(w, q - 1)\n"
     ]
    },
    {
     "name": "stdout",
     "output_type": "stream",
     "text": [
      "Experimenting with q = 4, lambda = 0.1\n",
      "Experimenting with q = 4, lambda = 0.2\n",
      "Experimenting with q = 4, lambda = 0.30000000000000004\n",
      "Experimenting with q = 4, lambda = 0.4\n",
      "Experimenting with q = 4, lambda = 0.5\n",
      "Experimenting with q = 4, lambda = 0.6000000000000001\n",
      "Experimenting with q = 4, lambda = 0.7000000000000001\n",
      "Experimenting with q = 4, lambda = 0.8\n",
      "Experimenting with q = 4, lambda = 0.9\n",
      "Experimenting with q = 4, lambda = 1.0\n"
     ]
    }
   ],
   "source": [
    "models = {}\n",
    "\n",
    "for q in q_vals:\n",
    "    for lambda_ in lambdas_:\n",
    "        print(f'Experimenting with q = {q}, lambda = {lambda_}')\n",
    "        \n",
    "        for degree in degrees:\n",
    "            X_train_pol = create_pol(X_train_ht, X_train_wd, degree=degree)\n",
    "            \n",
    "            w, b = init_wt_bias(degree=degree)\n",
    "            \n",
    "            w_batch, b_batch = batch_gradient_descent(X_train_pol, y_train, w, b, 0.0005, 500, lambda_=lambda_, q=q)\n",
    "            w_stoc, b_stoc = stochastic_gradient_descent(X_train_pol, y_train, w, b, 0.0005, 500, lambda_=lambda_, q=q)\n",
    "            \n",
    "            X_test_pol = create_pol(X_test_ht, X_test_wd, degree=degree)\n",
    "            test_error_batch = eval_model(X_test_pol, y_test, w_batch, b_batch)\n",
    "            test_error_stoc = eval_model(X_test_pol, y_test, w_stoc, b_stoc)\n",
    "            \n",
    "            models[(q, lambda_, 'B')] = (test_error_batch)\n",
    "            models[(q, lambda_, 'S')] = (test_error_stoc)"
   ]
  },
  {
   "cell_type": "code",
   "execution_count": 110,
   "metadata": {},
   "outputs": [
    {
     "data": {
      "text/plain": [
       "{(0.5, 0.0, 'B'): nan,\n",
       " (0.5, 0.0, 'S'): nan,\n",
       " (0.5, 0.1, 'B'): nan,\n",
       " (0.5, 0.1, 'S'): nan,\n",
       " (0.5, 0.2, 'B'): nan,\n",
       " (0.5, 0.2, 'S'): nan,\n",
       " (0.5, 0.30000000000000004, 'B'): nan,\n",
       " (0.5, 0.30000000000000004, 'S'): nan,\n",
       " (0.5, 0.4, 'B'): nan,\n",
       " (0.5, 0.4, 'S'): nan,\n",
       " (0.5, 0.5, 'B'): nan,\n",
       " (0.5, 0.5, 'S'): nan,\n",
       " (0.5, 0.6000000000000001, 'B'): nan,\n",
       " (0.5, 0.6000000000000001, 'S'): nan,\n",
       " (0.5, 0.7000000000000001, 'B'): nan,\n",
       " (0.5, 0.7000000000000001, 'S'): nan,\n",
       " (0.5, 0.8, 'B'): nan,\n",
       " (0.5, 0.8, 'S'): nan,\n",
       " (0.5, 0.9, 'B'): nan,\n",
       " (0.5, 0.9, 'S'): nan,\n",
       " (0.5, 1.0, 'B'): nan,\n",
       " (0.5, 1.0, 'S'): nan,\n",
       " (1, 0.0, 'B'): nan,\n",
       " (1, 0.0, 'S'): nan,\n",
       " (1, 0.1, 'B'): nan,\n",
       " (1, 0.1, 'S'): nan,\n",
       " (1, 0.2, 'B'): nan,\n",
       " (1, 0.2, 'S'): nan,\n",
       " (1, 0.30000000000000004, 'B'): nan,\n",
       " (1, 0.30000000000000004, 'S'): nan,\n",
       " (1, 0.4, 'B'): nan,\n",
       " (1, 0.4, 'S'): nan,\n",
       " (1, 0.5, 'B'): nan,\n",
       " (1, 0.5, 'S'): nan,\n",
       " (1, 0.6000000000000001, 'B'): nan,\n",
       " (1, 0.6000000000000001, 'S'): nan,\n",
       " (1, 0.7000000000000001, 'B'): nan,\n",
       " (1, 0.7000000000000001, 'S'): nan,\n",
       " (1, 0.8, 'B'): nan,\n",
       " (1, 0.8, 'S'): nan,\n",
       " (1, 0.9, 'B'): nan,\n",
       " (1, 0.9, 'S'): nan,\n",
       " (1, 1.0, 'B'): nan,\n",
       " (1, 1.0, 'S'): nan,\n",
       " (2, 0.0, 'B'): nan,\n",
       " (2, 0.0, 'S'): nan,\n",
       " (2, 0.1, 'B'): nan,\n",
       " (2, 0.1, 'S'): nan,\n",
       " (2, 0.2, 'B'): nan,\n",
       " (2, 0.2, 'S'): nan,\n",
       " (2, 0.30000000000000004, 'B'): nan,\n",
       " (2, 0.30000000000000004, 'S'): nan,\n",
       " (2, 0.4, 'B'): nan,\n",
       " (2, 0.4, 'S'): nan,\n",
       " (2, 0.5, 'B'): nan,\n",
       " (2, 0.5, 'S'): nan,\n",
       " (2, 0.6000000000000001, 'B'): nan,\n",
       " (2, 0.6000000000000001, 'S'): nan,\n",
       " (2, 0.7000000000000001, 'B'): nan,\n",
       " (2, 0.7000000000000001, 'S'): nan,\n",
       " (2, 0.8, 'B'): nan,\n",
       " (2, 0.8, 'S'): nan,\n",
       " (2, 0.9, 'B'): nan,\n",
       " (2, 0.9, 'S'): nan,\n",
       " (2, 1.0, 'B'): nan,\n",
       " (2, 1.0, 'S'): nan,\n",
       " (4, 0.0, 'B'): nan,\n",
       " (4, 0.0, 'S'): nan,\n",
       " (4, 0.1, 'B'): nan,\n",
       " (4, 0.1, 'S'): nan,\n",
       " (4, 0.2, 'B'): nan,\n",
       " (4, 0.2, 'S'): nan,\n",
       " (4, 0.30000000000000004, 'B'): nan,\n",
       " (4, 0.30000000000000004, 'S'): nan,\n",
       " (4, 0.4, 'B'): nan,\n",
       " (4, 0.4, 'S'): nan,\n",
       " (4, 0.5, 'B'): nan,\n",
       " (4, 0.5, 'S'): nan,\n",
       " (4, 0.6000000000000001, 'B'): nan,\n",
       " (4, 0.6000000000000001, 'S'): nan,\n",
       " (4, 0.7000000000000001, 'B'): nan,\n",
       " (4, 0.7000000000000001, 'S'): nan,\n",
       " (4, 0.8, 'B'): nan,\n",
       " (4, 0.8, 'S'): nan,\n",
       " (4, 0.9, 'B'): nan,\n",
       " (4, 0.9, 'S'): nan,\n",
       " (4, 1.0, 'B'): nan,\n",
       " (4, 1.0, 'S'): nan}"
      ]
     },
     "execution_count": 110,
     "metadata": {},
     "output_type": "execute_result"
    }
   ],
   "source": [
    "models"
   ]
  },
  {
   "cell_type": "code",
   "execution_count": null,
   "metadata": {},
   "outputs": [],
   "source": []
  }
 ],
 "metadata": {
  "kernelspec": {
   "display_name": "general-env",
   "language": "python",
   "name": "python3"
  },
  "language_info": {
   "codemirror_mode": {
    "name": "ipython",
    "version": 3
   },
   "file_extension": ".py",
   "mimetype": "text/x-python",
   "name": "python",
   "nbconvert_exporter": "python",
   "pygments_lexer": "ipython3",
   "version": "3.10.10"
  },
  "orig_nbformat": 4
 },
 "nbformat": 4,
 "nbformat_minor": 2
}
