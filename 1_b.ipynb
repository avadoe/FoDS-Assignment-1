{
 "cells": [
  {
   "cell_type": "code",
   "execution_count": 30,
   "metadata": {},
   "outputs": [],
   "source": [
    "import pandas as pd\n",
    "import numpy as np"
   ]
  },
  {
   "cell_type": "code",
   "execution_count": 31,
   "metadata": {},
   "outputs": [],
   "source": [
    "data = pd.read_csv('Fish Data - A2.csv')\n",
    "\n",
    "mean = data.mean()\n",
    "std = data.std()"
   ]
  },
  {
   "cell_type": "code",
   "execution_count": 32,
   "metadata": {},
   "outputs": [
    {
     "data": {
      "text/plain": [
       "(Height      8.970994\n",
       " Width       4.417486\n",
       " Weight    398.326415\n",
       " dtype: float64,\n",
       " Height      4.286208\n",
       " Width       1.685804\n",
       " Weight    357.978317\n",
       " dtype: float64)"
      ]
     },
     "execution_count": 32,
     "metadata": {},
     "output_type": "execute_result"
    }
   ],
   "source": [
    "mean, std"
   ]
  },
  {
   "cell_type": "code",
   "execution_count": 33,
   "metadata": {},
   "outputs": [
    {
     "data": {
      "text/plain": [
       "Height    0\n",
       "Width     0\n",
       "Weight    0\n",
       "dtype: int64"
      ]
     },
     "execution_count": 33,
     "metadata": {},
     "output_type": "execute_result"
    }
   ],
   "source": [
    "data.isna().sum()"
   ]
  },
  {
   "cell_type": "markdown",
   "metadata": {},
   "source": [
    "### Preprocessing"
   ]
  },
  {
   "cell_type": "code",
   "execution_count": 34,
   "metadata": {},
   "outputs": [],
   "source": [
    "data.fillna(data.mean(), inplace=True)"
   ]
  },
  {
   "cell_type": "code",
   "execution_count": 35,
   "metadata": {},
   "outputs": [
    {
     "data": {
      "text/plain": [
       "(8.970993710691824, 4.417485534591195, 4.286207619968867, 1.6858038699921671)"
      ]
     },
     "execution_count": 35,
     "metadata": {},
     "output_type": "execute_result"
    }
   ],
   "source": [
    "mean_ht = data['Height'].mean()\n",
    "mean_wd = data['Width'].mean()\n",
    "std_ht = data['Height'].std()\n",
    "std_wd = data['Width'].std()\n",
    "\n",
    "mean_ht, mean_wd, std_ht, std_wd"
   ]
  },
  {
   "cell_type": "code",
   "execution_count": 36,
   "metadata": {},
   "outputs": [],
   "source": [
    "data['Width'] = (data['Width'] - mean_wd) / std_wd\n",
    "data['Height'] = (data['Height'] - mean_ht) / std_ht"
   ]
  },
  {
   "cell_type": "code",
   "execution_count": 37,
   "metadata": {},
   "outputs": [],
   "source": [
    "ht = data['Height'].values\n",
    "wd = data['Width'].values\n",
    "wt = data['Weight'].values"
   ]
  },
  {
   "cell_type": "code",
   "execution_count": 38,
   "metadata": {},
   "outputs": [
    {
     "data": {
      "text/plain": [
       "(True, 159, 159)"
      ]
     },
     "execution_count": 38,
     "metadata": {},
     "output_type": "execute_result"
    }
   ],
   "source": [
    "len(ht) == len(wd), len(wt), len(wd)"
   ]
  },
  {
   "cell_type": "code",
   "execution_count": 45,
   "metadata": {},
   "outputs": [],
   "source": [
    "train_size = int(0.8 * len(data))\n",
    "\n",
    "train_data = data[:train_size]\n",
    "test_data = data[train_size:]\n",
    "\n",
    "X_train = train_data[['Height', 'Width']].values\n",
    "y_train = train_data['Weight'].values\n",
    "X_test = test_data[['Height', 'Width']].values\n",
    "y_test = test_data['Weight'].values"
   ]
  },
  {
   "cell_type": "code",
   "execution_count": 40,
   "metadata": {},
   "outputs": [
    {
     "data": {
      "text/plain": [
       "(127, 32)"
      ]
     },
     "execution_count": 40,
     "metadata": {},
     "output_type": "execute_result"
    }
   ],
   "source": [
    "len(train_data), len(test_data)"
   ]
  },
  {
   "cell_type": "code",
   "execution_count": 41,
   "metadata": {},
   "outputs": [
    {
     "data": {
      "text/plain": [
       "[0, 1, 2, 3, 4, 5, 6, 7, 8, 9]"
      ]
     },
     "execution_count": 41,
     "metadata": {},
     "output_type": "execute_result"
    }
   ],
   "source": [
    "degrees = [_ for _ in range(10)]\n",
    "\n",
    "degrees"
   ]
  },
  {
   "cell_type": "code",
   "execution_count": 42,
   "metadata": {},
   "outputs": [],
   "source": [
    "train_data_ft = {}"
   ]
  },
  {
   "cell_type": "code",
   "execution_count": 44,
   "metadata": {},
   "outputs": [],
   "source": [
    "def create_polynomial_features(X, degree):\n",
    "    X_pol = np.column_stack([X[:, 0] ** i * X[:, 1] ** (degree - i) for i in range(degree + 1)])\n",
    "    return X_pol\n",
    "\n",
    "def fit_polynomial_regression(X, y):\n",
    "    X_transpose = X.T\n",
    "    w = np.linalg.inv(X_transpose.dot(X)).dot(X_transpose).dot(y)\n",
    "    return w\n",
    "\n",
    "def calculate_mse(w, X, y):\n",
    "    y_pred = X.dot(w)\n",
    "    mse = np.mean((y_pred - y) ** 2)\n",
    "    return mse\n",
    "\n",
    "def regularized_loss(X, y, w, q, lambda_reg):\n",
    "    n = len(y)\n",
    "    predictions = np.dot(X, w)\n",
    "    error = predictions - y\n",
    "    loss = (1 / (2 * n)) * np.sum(np.abs(error) ** q) + (lambda_reg / 2) * np.dot(w, w)\n",
    "    return loss\n",
    "\n",
    "\n",
    "# def select_best_degree(train_data_pol, test_data_pol, train_target, test_target):\n",
    "#     best_degree = None\n",
    "#     best_mse = float('inf')\n",
    "    \n",
    "#     for degree, train_poly_features in train_data_pol.items():\n",
    "#         model = fit_polynomial_regression(train_poly_features, train_target)\n",
    "#         test_poly_features = test_data_pol[degree]\n",
    "#         mse = calculate_mse(model, test_poly_features, test_target)\n",
    "        \n",
    "#         if mse < best_mse:\n",
    "#             best_mse = mse\n",
    "#             best_degree = degree\n",
    "    \n",
    "#     return best_degree\n",
    "\n",
    "def batch_gradient_descent_regularized(X, y, w, lr, num_iters, q, lambda_reg):\n",
    "    n = len(y)\n",
    "    losses = []\n",
    "    \n",
    "    for _ in range(num_iters):\n",
    "        predictions = np.dot(X, w)\n",
    "        error = predictions - y\n",
    "        gradient = (1 / n) * X.T.dot(np.abs(error) ** (q - 1) * np.sign(error)) + lambda_reg * w\n",
    "        w -= lr * gradient\n",
    "        loss = regularized_loss(X, y, w, q, lambda_reg)\n",
    "        losses.append(loss)\n",
    "    \n",
    "    return w, losses\n",
    "\n",
    "def stochastic_gradient_descent_regularized(X, y, w, lr, num_iters, q, lambda_reg):\n",
    "    n = len(y)\n",
    "    losses = []\n",
    "    \n",
    "    for _ in range(num_iters):\n",
    "        rand_idx = np.random.randint(n)  \n",
    "        x_i = X[rand_idx, :]\n",
    "        y_i = y[rand_idx]\n",
    "        \n",
    "        prediction = np.dot(x_i, w)\n",
    "        error = prediction - y_i\n",
    "        gradient = x_i * (np.abs(error) ** (q - 1) * np.sign(error)) + lambda_reg * w\n",
    "        w -= lr * gradient\n",
    "        loss = regularized_loss(X, y, w, q, lambda_reg)\n",
    "        losses.append(loss)\n",
    "    \n",
    "    return w, losses"
   ]
  },
  {
   "cell_type": "code",
   "execution_count": null,
   "metadata": {},
   "outputs": [],
   "source": [
    "q = [0.5,1,2,4]\n",
    "lambda_values = np.linspace(0, 1, 11)\n",
    "\n",
    "lr = 0.005\n",
    "num_iters = 5000\n",
    "\n",
    "best_models_batch = {}\n",
    "best_models_stochastic = {}\n",
    "\n",
    "for q in q:\n",
    "    best_loss_batch = float('inf')\n",
    "    best_loss_stochastic = float('inf')\n",
    "    \n",
    "    for lambda_reg in lambda_values:\n",
    "        # Create polynomial features for training and testing data\n",
    "        train_data_poly = create_polynomial_features(X_train, best_degree)\n",
    "        test_data_poly = create_polynomial_features(X_test, best_degree)\n",
    "        \n",
    "        # Train batch gradient descent model\n",
    "        w_batch, losses_batch = batch_gradient_descent_regularized(train_data_poly, y_train, lr, num_iters, q, lambda_reg)\n",
    "        final_loss_batch = losses_batch[-1]\n",
    "        \n",
    "        # Train stochastic gradient descent model\n",
    "        w_stochastic, losses_stochastic = stochastic_gradient_descent_regularized(train_data_poly, y_train, lr, num_iters, q, lambda_reg)\n",
    "        final_loss_stochastic = losses_stochastic[-1]\n",
    "        \n",
    "        if final_loss_batch < best_loss_batch:\n",
    "            best_loss_batch = final_loss_batch\n",
    "            best_models_batch[(q, lambda_reg)] = w_batch\n",
    "        \n",
    "        if final_loss_stochastic < best_loss_stochastic:\n",
    "            best_loss_stochastic = final_loss_stochastic\n",
    "            best_models_stochastic[(q, lambda_reg)] = w_stochastic"
   ]
  }
 ],
 "metadata": {
  "kernelspec": {
   "display_name": "general-env",
   "language": "python",
   "name": "python3"
  },
  "language_info": {
   "codemirror_mode": {
    "name": "ipython",
    "version": 3
   },
   "file_extension": ".py",
   "mimetype": "text/x-python",
   "name": "python",
   "nbconvert_exporter": "python",
   "pygments_lexer": "ipython3",
   "version": "3.10.10"
  },
  "orig_nbformat": 4
 },
 "nbformat": 4,
 "nbformat_minor": 2
}
